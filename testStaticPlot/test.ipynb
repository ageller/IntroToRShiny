{
 "cells": [
  {
   "cell_type": "markdown",
   "id": "5f9ade5a",
   "metadata": {},
   "source": [
    "# Testing ideas for how to generate the plot\n",
    "\n",
    "I want to create a three-panel figure where the lower-left is a scatter plot and there are marginal histograms on the top and right.  There are multiple ways to do this in R, and I will explore three different options here.\n",
    "\n",
    "1. ```ggplot2``` + ```ggExtra```\n",
    "2. ```ggplot2``` + ```gtable``` + ```grid```\n",
    "3. ```ggplot2``` + ```plotly```\n",
    "\n",
    "This notebook is meant to accompany my Introduction to R Shiny workshop, with materials on my [GitHub repo here](https://github.com/ageller/IntroToRShiny).\n",
    "\n",
    "---\n",
    "*Author: Aaron M. Geller (Oct. 2022)*"
   ]
  },
  {
   "cell_type": "code",
   "execution_count": null,
   "id": "c5aafe28",
   "metadata": {},
   "outputs": [],
   "source": [
    "# use the standard R old faithful data set : \n",
    "# https://search.r-project.org/CRAN/refmans/mixComp/html/faithful.html\n",
    "#   eruptions : numeric, eruption time in mins\n",
    "#   waiting : numeric, waiting time to next eruption (in mins)\n",
    "data(faithful)\n",
    "head(faithful)"
   ]
  },
  {
   "cell_type": "markdown",
   "id": "4f58f7e9",
   "metadata": {},
   "source": [
    "## 1. Test using ```ggplot2``` and ```ggExtra```\n",
    "\n",
    "```ggExtra``` has the ```ggMarginal``` function that easily creates marginal plots like I want with minimal code."
   ]
  },
  {
   "cell_type": "code",
   "execution_count": null,
   "id": "9c87d422",
   "metadata": {},
   "outputs": [],
   "source": [
    "library(ggplot2)\n",
    "library(ggExtra)"
   ]
  },
  {
   "cell_type": "code",
   "execution_count": null,
   "id": "4f205da6",
   "metadata": {},
   "outputs": [],
   "source": [
    "p <- ggplot(faithful, aes(eruptions, waiting)) + \n",
    "    geom_point() + geom_density2d() + \n",
    "    scale_x_continuous(limits = c(1, 6), expand = c(0, 0)) +\n",
    "    scale_y_continuous(limits = c(40, 100), expand = c(0, 0)) +\n",
    "    labs(x =\"Eruption Duration (min)\", y = \"Time Between Eruptions (min)\") +\n",
    "    stat_smooth(method = \"lm\", formula = y ~ x, geom = \"smooth\", se = FALSE, color = \"red\") + #lm for linear \n",
    "    theme_bw() \n",
    "\n",
    "f <- ggMarginal(p, \n",
    "    type = \"histogram\", \n",
    "    margins = \"both\",\n",
    "    xparams = list(binwidth = 0.1),\n",
    "    yparams = list(binwidth = 1),\n",
    ")\n",
    "\n",
    "f"
   ]
  },
  {
   "cell_type": "markdown",
   "id": "02b921ea",
   "metadata": {},
   "source": [
    "This figure looks nice, and it is easy to code, but there is some functionality that is missing:\n",
    "- I would like to have labels on the y axes of the histograms to show the counts.  This is apparently not possible with ```ggMarginal```.\n",
    "- In ```Shiny```, I would like to be able to use a brush to zoom in on the figure (or to select data points), but the Shiny brush does not work well with ```ggMarginal```.\n",
    "\n",
    "(Of course if you like the look of this figure and you don't need any user interaction directly with the plot, it would be perfectly fine to use with ```Shiny```.)"
   ]
  },
  {
   "cell_type": "markdown",
   "id": "3cda41c0",
   "metadata": {},
   "source": [
    "## 2. Try using ```ggplot2``` + ```gtable``` + ```grid```\n",
    "\n",
    "These libraries give the user more control over the look of the plot.  However, in my opinion the syntax becomes cumbersome and confusing (e.g., in order to make sure that all the axes are properly aligned)."
   ]
  },
  {
   "cell_type": "code",
   "execution_count": null,
   "id": "0340b1e8",
   "metadata": {},
   "outputs": [],
   "source": [
    "library(ggplot2)\n",
    "library(gtable)\n",
    "library(grid)"
   ]
  },
  {
   "cell_type": "code",
   "execution_count": null,
   "id": "887d6aec",
   "metadata": {},
   "outputs": [],
   "source": [
    "# First, create each plot using ggplot being explicit about the margins so that all the axes line up as expected\n",
    "\n",
    "# Note on the ordering of the margins:\n",
    "#    margin(t = 0, r = 0, b = 0, l = 0)\n",
    "\n",
    "p <- ggplot(faithful, aes(eruptions, waiting)) + \n",
    "    geom_point() + geom_density2d() + \n",
    "    scale_x_continuous(limits = c(1, 6), expand = c(0, 0)) +\n",
    "    scale_y_continuous(limits = c(40, 100), expand = c(0, 0)) +\n",
    "    labs(x =\"Eruption Duration (min)\", y = \"Time Between Eruptions (min)\") +\n",
    "    stat_smooth(method = \"lm\", formula = y ~ x, geom = \"smooth\", se = FALSE, color = \"red\") + #lm for linear \n",
    "    theme_bw() +\n",
    "    theme(plot.margin = unit(c(0.1, 0.1, 1, 1), \"cm\"))\n",
    "\n",
    "\n",
    "hist_top <- ggplot(faithful, aes(eruptions)) + geom_histogram(binwidth = 0.1) +\n",
    "    scale_x_continuous(limits = c(1, 6), expand = c(0, 0)) +\n",
    "    scale_y_continuous(limits = c(0, NA), expand = c(0, 0)) +\n",
    "    xlab(\"\") + \n",
    "    theme_classic() +\n",
    "    theme(axis.text.x = element_blank(),\n",
    "          axis.ticks.x = element_blank(),\n",
    "          plot.margin = unit(c(1, 0, -0.3, 1), \"cm\")\n",
    "    )\n",
    "\n",
    "hist_right <- ggplot(faithful, aes(waiting)) + geom_histogram(binwidth = 1) + coord_flip() + \n",
    "    scale_x_continuous(limits = c(40, 100), expand = c(0, 0)) + \n",
    "    scale_y_continuous(limits = c(0, NA), expand = c(0, 0)) +\n",
    "    xlab(\"\") + \n",
    "    theme_classic() +\n",
    "    theme(axis.text.y = element_blank(),\n",
    "          axis.ticks.y = element_blank(),\n",
    "          plot.margin = unit(c(0, 1, 1, -0.3), \"cm\")\n",
    ")\n",
    "\n",
    "\n",
    "# convert these ggplot objects to \"grobs\" for gtable\n",
    "g1 <- ggplotGrob(p)\n",
    "g2 <- ggplotGrob(hist_top)\n",
    "g3 <- ggplotGrob(hist_right)\n",
    "\n",
    "# make sure that the plot widths and heights are the same so that the axes line up\n",
    "g2$widths[2:5] <- as.list(g1$widths[2:5])\n",
    "g3$heights[2:5] <- as.list(g1$heights[2:5])\n",
    "\n",
    "# combine these into a matrix of plots and create the gtable\n",
    "mat <- matrix(list(g2, g1, nullGrob(), g3), nrow = 2)\n",
    "g <- gtable_matrix(name = \"demo\", grobs = mat, \n",
    "                   widths = unit(c(5, 2), \"in\"), \n",
    "                   heights = unit(c(2, 4), \"in\",))\n",
    "\n",
    "# use grid to show the figure\n",
    "grid.newpage()\n",
    "grid.draw(g)"
   ]
  },
  {
   "cell_type": "markdown",
   "id": "519831ed",
   "metadata": {},
   "source": [
    "This figure also looks fine, but it also does not play well with Shiny brushes.  (Of course if we didn't want any user interaction directly with the plot, it would be perfectly fine to use with Shiny.)"
   ]
  },
  {
   "cell_type": "markdown",
   "id": "bf32badc",
   "metadata": {},
   "source": [
    "## 3. Try using ```ggplot2``` + ```plotly```\n",
    "\n",
    "```Plotly``` is a fantastic library for creating interactive figures in R, Python and Javascript.  A very nice part about using Plotly in R is that you can often easily convert a ```ggplot``` object into a ```plotly``` object with the command ```ggplotly```."
   ]
  },
  {
   "cell_type": "code",
   "execution_count": null,
   "id": "4c718028",
   "metadata": {},
   "outputs": [],
   "source": [
    "library(ggplot2)\n",
    "library(plotly)"
   ]
  },
  {
   "cell_type": "code",
   "execution_count": null,
   "id": "744f7b4e",
   "metadata": {},
   "outputs": [],
   "source": [
    "# create the three panels using ggplot\n",
    "main_plot <- ggplot(faithful, aes(eruptions, waiting)) + \n",
    "    geom_point() + geom_density2d() + \n",
    "    scale_x_continuous(limits = c(1, 5.9), expand = c(0, 0)) +\n",
    "    scale_y_continuous(limits = c(40, 99), expand = c(0, 0)) +\n",
    "    labs(x =\"Eruption Duration (min)\", y = \"Time Between Eruptions (min)\") +\n",
    "    stat_smooth(method = \"lm\", formula = y ~ x, geom = \"smooth\", se = FALSE, color = \"red\") + #lm for linear \n",
    "    theme_bw()\n",
    "\n",
    "\n",
    "top_plot <- ggplot(faithful, aes(eruptions)) + geom_density() +\n",
    "    scale_x_continuous(limits = c(1, 5.9), expand = c(0, 0)) +\n",
    "    scale_y_continuous(limits = c(0, NA), expand = c(0, 0)) +\n",
    "    theme_classic()\n",
    "\n",
    "\n",
    "right_plot <- ggplot(faithful, aes(waiting)) + geom_histogram(binwidth = 1) + coord_flip() + \n",
    "    scale_x_continuous(limits = c(40, 99), expand = c(0, 0)) + \n",
    "    scale_y_continuous(limits = c(0, NA), expand = c(0, 0)) +\n",
    "    theme_classic()\n",
    "\n",
    "\n",
    "# the layout the figure is controlled by Plotly's subplot function\n",
    "# subplot will also handle joining the axes and setting the plot widths, heights, margins\n",
    "s <- subplot(top_plot, plotly_empty(), main_plot, right_plot, \n",
    "    nrows = 2, heights = c(0.2, 0.8), widths = c(0.8, 0.2), margin = 0,\n",
    "    shareX = TRUE, shareY = TRUE)\n",
    "\n",
    "# show the plotly figure (which allows user interaction)\n",
    "ggplotly(s)"
   ]
  },
  {
   "cell_type": "markdown",
   "id": "e3399698",
   "metadata": {},
   "source": [
    "This figure looks great and will behave nicely in ```Shiny```.  As a bonus, ```Plotly``` will handle zooming, tooltips, saving the figure, etc., so we don't have to code that functionality manually into our Shiny app!"
   ]
  }
 ],
 "metadata": {
  "kernelspec": {
   "display_name": "R",
   "language": "R",
   "name": "ir"
  },
  "language_info": {
   "codemirror_mode": "r",
   "file_extension": ".r",
   "mimetype": "text/x-r-source",
   "name": "R",
   "pygments_lexer": "r",
   "version": "4.1.3"
  }
 },
 "nbformat": 4,
 "nbformat_minor": 5
}
